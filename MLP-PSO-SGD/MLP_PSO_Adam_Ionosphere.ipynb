{
  "nbformat": 4,
  "nbformat_minor": 0,
  "metadata": {
    "colab": {
      "provenance": [],
      "authorship_tag": "ABX9TyNj2jzEfq0pBGiFo/4WPWe9",
      "include_colab_link": true
    },
    "kernelspec": {
      "name": "python3",
      "display_name": "Python 3"
    },
    "language_info": {
      "name": "python"
    }
  },
  "cells": [
    {
      "cell_type": "markdown",
      "metadata": {
        "id": "view-in-github",
        "colab_type": "text"
      },
      "source": [
        "<a href=\"https://colab.research.google.com/github/caua-sathler/NEURAL-NETWORKS/blob/main/MLP-PSO-SGD/MLP_PSO_Adam_Ionosphere.ipynb\" target=\"_parent\"><img src=\"https://colab.research.google.com/assets/colab-badge.svg\" alt=\"Open In Colab\"/></a>"
      ]
    },
    {
      "cell_type": "code",
      "execution_count": null,
      "metadata": {
        "id": "bUshj06w8EUh"
      },
      "outputs": [],
      "source": [
        "import torch\n",
        "import torch.nn as nn\n",
        "import torch.optim as optim\n",
        "import torch.nn.functional as F"
      ]
    },
    {
      "cell_type": "code",
      "source": [
        "from sklearn import datasets\n",
        "from sklearn.model_selection import train_test_split\n",
        "from sklearn.preprocessing import StandardScaler\n",
        "from sklearn.metrics import confusion_matrix"
      ],
      "metadata": {
        "id": "3MwqLzgb8QnZ"
      },
      "execution_count": null,
      "outputs": []
    },
    {
      "cell_type": "code",
      "source": [
        "import pandas as pd\n",
        "import numpy as np\n",
        "import matplotlib.pyplot as plt\n",
        "import seaborn as sns\n",
        "import copy\n",
        "\n",
        "device = torch.device(\"cuda\" if torch.cuda.is_available() else \"cpu\")"
      ],
      "metadata": {
        "id": "q27wMqjK8SvI"
      },
      "execution_count": null,
      "outputs": []
    },
    {
      "cell_type": "code",
      "source": [
        "url = \"https://archive.ics.uci.edu/ml/machine-learning-databases/ionosphere/ionosphere.data\"\n",
        "column_names = [f\"feature_{i}\" for i in range(34)] + [\"label\"]\n",
        "\n",
        "ionosphere = pd.read_csv(url, header=None, names=column_names)\n",
        "\n",
        "ionosphere[\"label\"] = ionosphere[\"label\"].map({\"b\": 0, \"g\": 1})"
      ],
      "metadata": {
        "id": "RqYR78Tu8Ukg"
      },
      "execution_count": null,
      "outputs": []
    },
    {
      "cell_type": "code",
      "source": [
        "X = ionosphere.drop(columns=['label']).values\n",
        "y = ionosphere['label'].values\n",
        "\n",
        "X_train, X_test, y_train, y_test = train_test_split(X, y, test_size=0.3, random_state=42)\n",
        "\n",
        "scaler = StandardScaler()\n",
        "X_train = scaler.fit_transform(X_train)\n",
        "X_test = scaler.transform(X_test)\n",
        "\n",
        "X_train = torch.tensor(X_train, dtype=torch.float32)\n",
        "y_train = torch.tensor(y_train, dtype=torch.long)\n",
        "X_test = torch.tensor(X_test, dtype=torch.float32)\n",
        "y_test = torch.tensor(y_test, dtype=torch.long)"
      ],
      "metadata": {
        "id": "pcCeJm4E8YUA"
      },
      "execution_count": null,
      "outputs": []
    },
    {
      "cell_type": "code",
      "source": [
        "class MLP(nn.Module):\n",
        "  def __init__(self, input_dim, output_dim):\n",
        "    super(MLP, self).__init__()\n",
        "    self.fc1 = nn.Linear(input_dim, 32)\n",
        "    self.fc2 = nn.Linear(32, 64)\n",
        "    self.fc3 = nn.Linear(64, 64)\n",
        "    self.fc4 = nn.Linear(64, 32)\n",
        "    self.fc5 = nn.Linear(32, 16)\n",
        "    self.fc6 = nn.Linear(16, output_dim)\n",
        "\n",
        "  def forward(self, x):\n",
        "    x = F.relu(self.fc1(x))\n",
        "    x = F.relu(self.fc2(x))\n",
        "    x = F.relu(self.fc3(x))\n",
        "    x = F.relu(self.fc4(x))\n",
        "    x = F.relu(self.fc5(x))\n",
        "    x = self.fc6(x)\n",
        "    return x"
      ],
      "metadata": {
        "id": "i7giQxZ68jQI"
      },
      "execution_count": null,
      "outputs": []
    },
    {
      "cell_type": "code",
      "source": [
        "# Classe Partícula para PSO adaptado ao treinamento da rede neural\n",
        "class Particle:\n",
        "    def __init__(self, model, device):\n",
        "        self.model = copy.deepcopy(model).to(device)\n",
        "        self.best_model = copy.deepcopy(model).to(device)\n",
        "        # self.position = {name: torch.zeros_like(param).to(device) for name, param in model.named_parameters()}\n",
        "        # self.velocity = {name: torch.zeros_like(param).to(device) for name, param in model.named_parameters()}\n",
        "\n",
        "        # Definir os limites do espaço de busca e a escala da velocidade\n",
        "        low = -10.0  # Limite inferior do espaço de busca\n",
        "        high = 10.0  # Limite superior do espaço de busca\n",
        "        velocity_scale = 0.1  # Escala para as velocidades iniciais\n",
        "\n",
        "        # Inicializar a posição com valores aleatórios uniformes no intervalo [low, high]\n",
        "        self.position = {name: torch.rand_like(param).to(device) * (high - low) + low for name, param in model.named_parameters()}\n",
        "\n",
        "        # Inicializar a velocidade com valores aleatórios pequenos (normalmente distribuídos)\n",
        "        self.velocity = {name: torch.randn_like(param).to(device) * velocity_scale for name, param in model.named_parameters()}\n",
        "\n",
        "        self.best_score = float('inf')\n",
        "        self.device = device\n",
        "\n",
        "        # Inicializar o otimizador (por exemplo, Adam)\n",
        "        #self.optimizer = optim.Adam(self.model.parameters(), lr=0.0001)\n",
        "        self.optimizer = optim.Adam(self.model.parameters(), lr=0.0007, weight_decay=1e-5)\n",
        "\n",
        "    def pso_sgd(self, global_best_model, inertia, c1, c2, learning_rate, beta1, beta2, epsilon, m, v, t):\n",
        "        for name, param in self.model.named_parameters():\n",
        "            if param.grad is None:\n",
        "                continue\n",
        "\n",
        "            local_rand = random.random()\n",
        "            global_rand = random.random()\n",
        "\n",
        "            # Atualização da velocidade\n",
        "            self.velocity[name] = (\n",
        "                inertia * self.velocity[name]\n",
        "                + c1 * local_rand * (self.best_model.state_dict()[name].to(self.device) - param.data)\n",
        "                + c2 * global_rand * (global_best_model.state_dict()[name].to(self.device) - param.data)\n",
        "            )\n",
        "\n",
        "            self.position[name] = param.data + self.velocity[name]\n",
        "            param.data = self.position[name]\n",
        "\n",
        "            # Move m[name] e v[name] para o mesmo dispositivo de param\n",
        "            m[name] = m[name].to(param.device)\n",
        "            v[name] = v[name].to(param.device)\n",
        "\n",
        "            # Atualização do Adam\n",
        "            m[name] = beta1 * m[name] + (1 - beta1) * param.grad\n",
        "            v[name] = beta2 * v[name] + (1 - beta2) * (param.grad ** 2)\n",
        "\n",
        "            m_hat = m[name] / (1 - beta1 ** t)\n",
        "            v_hat = v[name] / (1 - beta2 ** t)\n",
        "\n",
        "            # param.data = self.position[name] - learning_rate * m_hat / (torch.sqrt(v_hat) + epsilon)\n",
        "            param.data = self.position[name] - learning_rate * param.grad\n",
        "            # param.data = self.position[name] + learning_rate * param.grad\n",
        "\n",
        "    def evaluate_test(self, x_test, y_test, criterion):\n",
        "        self.model.eval()\n",
        "        total_loss = 0\n",
        "        correct = 0\n",
        "        total = len(x_test)\n",
        "\n",
        "        with torch.no_grad():\n",
        "\n",
        "          outputs = self.model(x_test)\n",
        "          loss = criterion(outputs, y_test)\n",
        "          total_loss += loss.item()\n",
        "\n",
        "          _, predicted = torch.max(outputs.data, 1)\n",
        "          accuracy = (predicted == y_test).sum().item() / total\n",
        "\n",
        "        avg_loss = total_loss / total\n",
        "        return avg_loss, accuracy * 100\n",
        "\n",
        "    def evaluate_train(self, x_train, y_train, criterion):\n",
        "        \"\"\"Calcula o erro (perda) e a acurácia da partícula utilizando o otimizador Adam.\"\"\"\n",
        "        self.model.train()  # Colocar o modelo em modo de treinamento\n",
        "        total_loss = 0\n",
        "        correct = 0\n",
        "        total = len(x_train)\n",
        "\n",
        "        # Zerar gradientes acumulados\n",
        "        self.optimizer.zero_grad()\n",
        "\n",
        "        # Forward pass\n",
        "        outputs = self.model(x_train)\n",
        "\n",
        "        # Cálculo do erro (loss)\n",
        "        loss = criterion(outputs, y_train)\n",
        "\n",
        "        # Backward pass (propagação do gradiente)\n",
        "        loss.backward()\n",
        "\n",
        "        # Atualizar os pesos usando Adam\n",
        "        self.optimizer.step()\n",
        "\n",
        "        # Acumular o erro total\n",
        "        total_loss += loss.item()\n",
        "\n",
        "        # Cálculo da acurácia\n",
        "\n",
        "        _, predicted = torch.max(outputs.data, 1)\n",
        "        accuracy = (predicted == y_train).sum().item() / total\n",
        "        # Cálculo da perda média e acurácia\n",
        "        avg_loss = total_loss / total\n",
        "\n",
        "\n",
        "        return avg_loss, accuracy * 100"
      ],
      "metadata": {
        "id": "WNdWjR7fVDGQ"
      },
      "execution_count": null,
      "outputs": []
    },
    {
      "cell_type": "code",
      "source": [
        "pop_size = 10\n",
        "num_epochs = 150\n",
        "inertia = 0.9\n",
        "c1, c2 = 0.6, 0.9\n",
        "learning_rate = 0.0002\n",
        "beta1, beta2 = 0.5, 0.999\n",
        "epsilon = 1e-8"
      ],
      "metadata": {
        "id": "hiG03K9BXFpT"
      },
      "execution_count": null,
      "outputs": []
    },
    {
      "cell_type": "code",
      "source": [
        "model = MLP(input_dim=34, output_dim=2)\n",
        "particles = [Particle(model, device) for _ in range(pop_size)]\n",
        "\n",
        "global_best_model = copy.deepcopy(particles[0].model)\n",
        "global_best_score = float('inf')\n",
        "\n",
        "criterion = nn.CrossEntropyLoss()\n",
        "\n",
        "# Inicializar m e v para Adam\n",
        "m = {name: torch.zeros_like(param) for name, param in model.named_parameters()}\n",
        "v = {name: torch.zeros_like(param) for name, param in model.named_parameters()}\n",
        "\n",
        "# Loop de treinamento do PSO\n",
        "for epoch in range(num_epochs):\n",
        "    inertia = 0.9 - ((0.9-0.4)/num_epochs)*epoch\n",
        "    for particle in particles:\n",
        "        # Colocar o modelo em modo de treinamento\n",
        "        particle.model.train()\n",
        "\n",
        "        particle.optimizer.zero_grad()\n",
        "\n",
        "        # Treinar a partícula (atualização de posição)\n",
        "        particle.pso_sgd(global_best_model, inertia, c1, c2, learning_rate, beta1, beta2, epsilon, m, v, epoch + 1)\n",
        "\n",
        "        # Avaliar a partícula e atualizar o local best\n",
        "        val_loss, val_accuracy = particle.evaluate_train(X_train, y_train, criterion)\n",
        "\n",
        "        if val_loss < particle.best_score:\n",
        "            particle.best_score = val_loss\n",
        "            particle.best_model = copy.deepcopy(particle.model)\n",
        "\n",
        "    #Determinar e atualizar o g-best (modelo global)\n",
        "    best_particle = min(particles, key=lambda p: p.best_score)\n",
        "    if best_particle.best_score < global_best_score:\n",
        "        global_best_score = best_particle.best_score\n",
        "        global_best_model = copy.deepcopy(best_particle.best_model)\n",
        "\n",
        "    # Avaliar e imprimir a cada época\n",
        "    if (epoch + 1) % 10 == 0:\n",
        "        val_loss, val_accuracy = best_particle.evaluate_test(X_test, y_test, criterion)\n",
        "        print(f'Epoch {epoch+1}/{num_epochs}, Validation Loss: {val_loss:.2f}, Validation Accuracy: {val_accuracy:.2f}')"
      ],
      "metadata": {
        "colab": {
          "base_uri": "https://localhost:8080/"
        },
        "id": "hXUDs_rhXQui",
        "outputId": "ee71e20b-d982-4cc6-85c7-831b8800fa52"
      },
      "execution_count": null,
      "outputs": [
        {
          "output_type": "stream",
          "name": "stdout",
          "text": [
            "Epoch 10/150, Validation Loss: 0.01, Validation Accuracy: 63.21\n",
            "Epoch 20/150, Validation Loss: 0.01, Validation Accuracy: 63.21\n",
            "Epoch 30/150, Validation Loss: 0.01, Validation Accuracy: 63.21\n",
            "Epoch 40/150, Validation Loss: 0.01, Validation Accuracy: 63.21\n",
            "Epoch 50/150, Validation Loss: 0.00, Validation Accuracy: 75.47\n",
            "Epoch 60/150, Validation Loss: 0.00, Validation Accuracy: 91.51\n",
            "Epoch 70/150, Validation Loss: 0.00, Validation Accuracy: 93.40\n",
            "Epoch 80/150, Validation Loss: 0.00, Validation Accuracy: 95.28\n",
            "Epoch 90/150, Validation Loss: 0.00, Validation Accuracy: 96.23\n",
            "Epoch 100/150, Validation Loss: 0.00, Validation Accuracy: 96.23\n",
            "Epoch 110/150, Validation Loss: 0.00, Validation Accuracy: 96.23\n",
            "Epoch 120/150, Validation Loss: 0.00, Validation Accuracy: 98.11\n",
            "Epoch 130/150, Validation Loss: 0.00, Validation Accuracy: 98.11\n",
            "Epoch 140/150, Validation Loss: 0.00, Validation Accuracy: 98.11\n",
            "Epoch 150/150, Validation Loss: 0.00, Validation Accuracy: 98.11\n"
          ]
        }
      ]
    },
    {
      "cell_type": "code",
      "source": [],
      "metadata": {
        "id": "inWvEXs-h3qB"
      },
      "execution_count": null,
      "outputs": []
    }
  ]
}